{
 "metadata": {
  "language_info": {
   "codemirror_mode": {
    "name": "ipython",
    "version": 3
   },
   "file_extension": ".py",
   "mimetype": "text/x-python",
   "name": "python",
   "nbconvert_exporter": "python",
   "pygments_lexer": "ipython3",
   "version": "3.8.3-candidate"
  },
  "orig_nbformat": 2,
  "kernelspec": {
   "name": "python38364bitfbc81706e68747e88947dbce97ae1c2c",
   "display_name": "Python 3.8.3 64-bit"
  }
 },
 "nbformat": 4,
 "nbformat_minor": 2,
 "cells": [
  {
   "cell_type": "code",
   "execution_count": 21,
   "metadata": {},
   "outputs": [],
   "source": [
    "from datetime import datetime,timedelta\n",
    "import slovakrailways as zsr"
   ]
  },
  {
   "cell_type": "code",
   "execution_count": 230,
   "metadata": {
    "tags": []
   },
   "outputs": [],
   "source": [
    "bratislava = \"5613206\"\n",
    "kosice = \"5613600\"\n",
    "zilina = \"5617915\"\n",
    "nitra = \"5615306\"\n",
    "wien = '8101003'\n",
    "ivanka = '5615276'"
   ]
  },
  {
   "cell_type": "code",
   "execution_count": 146,
   "metadata": {
    "tags": []
   },
   "outputs": [
    {
     "output_type": "stream",
     "name": "stdout",
     "text": "[370, 10100480, 154, 3, 272375, 428109, 435774, 3, 295452, 428508, 440731]\n[370, 10100480, 154, 3, 217130, 428146, 431647]\n[370, 10100480, 154, 3, 267253, 428142, 440734]\n[370, 10100480, 154, 3, 217704, 428177, 431667]\n[370, 10100480, 154, 3, 198787, 428194, 431675]\n"
    }
   ],
   "source": [
    "x = zsr.route(bratislava, kosice, dt = datetime(2020,5,11))\n",
    "for i in x:\n",
    "    print([ref['selfRef'] for ref in i['routeSelfRefs']])"
   ]
  },
  {
   "cell_type": "code",
   "execution_count": 212,
   "metadata": {
    "tags": []
   },
   "outputs": [
    {
     "output_type": "stream",
     "name": "stdout",
     "text": "[371, 33184, 203, 3, 182281, 428253, 431702]\n[371, 33184, 203, 3, 268329, 428250, 440747]\n[371, 33184, 203, 3, 219275, 428258, 431708]\n[371, 33184, 203, 3, 220003, 428301, 431718]\n[371, 33184, 203, 3, 220596, 428356, 431588]\n"
    }
   ],
   "source": [
    "x = zsr.route(bratislava, kosice, dt = datetime(2020,6,29,14,15))\n",
    "for i in x:\n",
    "    print([ref['selfRef'] for ref in i['routeSelfRefs']])"
   ]
  },
  {
   "cell_type": "code",
   "execution_count": 186,
   "metadata": {
    "tags": []
   },
   "outputs": [
    {
     "output_type": "stream",
     "name": "stdout",
     "text": "[372, 45888, 253, 3, 217130, 428146, 431647]\n[372, 45888, 253, 3, 267253, 428142, 440734]\n[372, 45888, 253, 3, 217704, 428177, 431667]\n[372, 45888, 253, 3, 198787, 428194, 431675]\n[372, 45888, 253, 3, 218244, 428201, 431686]\n[372, 45888, 253, 3, 267730, 428197, 441447]\n"
    }
   ],
   "source": [
    "x = zsr.route(bratislava, kosice, dt = datetime(2020,8,18,7,18))\n",
    "for i in x:\n",
    "    print([ref['selfRef'] for ref in i['routeSelfRefs']])"
   ]
  },
  {
   "cell_type": "code",
   "execution_count": 197,
   "metadata": {
    "tags": []
   },
   "outputs": [
    {
     "output_type": "stream",
     "name": "stdout",
     "text": "[373, 58592, 303, 3, 216547, 428116, 431634]\n[373, 58592, 303, 3, 217130, 428146, 431647]\n[373, 58592, 303, 3, 267253, 428142, 440734]\n[373, 58592, 303, 3, 217704, 428177, 431667]\n[373, 58592, 303, 3, 198787, 428194, 431675]\n"
    }
   ],
   "source": [
    "x = zsr.route(bratislava, kosice, dt = datetime(2020,10,7,0,21))\n",
    "for i in x:\n",
    "    print([ref['selfRef'] for ref in i['routeSelfRefs']])"
   ]
  },
  {
   "cell_type": "code",
   "execution_count": 225,
   "metadata": {
    "tags": []
   },
   "outputs": [
    {
     "output_type": "stream",
     "name": "stdout",
     "text": "[372, 229365888, 255, 3, 220372, 432307, 432009]\n[372, 229365888, 256, 3, 216377, 432196, 432058]\n[372, 229365888, 256, 3, 216829, 432208, 432074]\n[372, 229365888, 256, 3, 266935, 432204, 432076]\n[372, 229365888, 256, 3, 179976, 432215, 433290]\n"
    }
   ],
   "source": [
    "x = zsr.route(kosice, bratislava, dt = datetime(2020,8,20,23))\n",
    "for i in x:\n",
    "    print([ref['selfRef'] for ref in i['routeSelfRefs']])"
   ]
  },
  {
   "cell_type": "code",
   "execution_count": 8,
   "metadata": {
    "tags": []
   },
   "outputs": [
    {
     "output_type": "stream",
     "name": "stdout",
     "text": "[371, -141031112, 251, 3, 62062, 448427, 432154]\n[371, -141031112, 251, 3, 61052, 448446, 432160]\n[371, -141031112, 251, 3, 218939, 448447, 432163]\n[371, -141031112, 251, 3, 61066, 448462, 432174]\n[371, -141031112, 251, 3, 219620, 448463, 432179]\n"
    }
   ],
   "source": [
    "x = zsr.route(zilina, bratislava)\n",
    "for i in x:\n",
    "    print([ref['selfRef'] for ref in i['routeSelfRefs']])"
   ]
  },
  {
   "cell_type": "code",
   "execution_count": 17,
   "metadata": {
    "tags": []
   },
   "outputs": [
    {
     "output_type": "stream",
     "name": "stdout",
     "text": "[371, -140853112, 251, 3, 112654, 428268, 2362670]\n[371, -140853112, 251, 3, 112713, 428289, 2362679]\n[371, -140853112, 251, 3, 112764, 428308, 2362688]\n[371, -140853112, 251, 3, 112866, 428321, 2362696]\n[371, -140853112, 251, 3, 112919, 428333, 2362703]\n"
    }
   ],
   "source": [
    "x = zsr.route(bratislava, wien)\n",
    "for i in x:\n",
    "    print([ref['selfRef'] for ref in i['routeSelfRefs']])"
   ]
  },
  {
   "cell_type": "code",
   "execution_count": 231,
   "metadata": {
    "tags": []
   },
   "outputs": [
    {
     "output_type": "stream",
     "name": "stdout",
     "text": "[371, -137256112, 251, 3, 193649, 441650, 441577]\n[371, -137256112, 251, 3, 195280, 441654, 441581]\n[371, -137256112, 251, 3, 195330, 441659, 441584]\n[371, -137256112, 251, 3, 193944, 441661, 441587]\n[371, -137256112, 252, 3, 192979, 441611, 441549]\n"
    }
   ],
   "source": [
    "x = zsr.route(nitra, ivanka)\n",
    "for i in x:\n",
    "    print([ref['selfRef'] for ref in i['routeSelfRefs']])\n"
   ]
  },
  {
   "cell_type": "code",
   "execution_count": 227,
   "metadata": {},
   "outputs": [
    {
     "output_type": "execute_result",
     "data": {
      "text/plain": "[{'value': 1, 'name': 'Os', 'description': 'osobný vlak'},\n {'value': 2, 'name': 'RR', 'description': 'Regionálny rýchlik'},\n {'value': 4, 'name': 'R', 'description': 'rýchlik'},\n {'value': 8, 'name': 'IR', 'description': 'IR'},\n {'value': 16, 'name': 'Ex', 'description': 'expresný vlak'},\n {'value': 32, 'name': 'THALYS', 'description': 'THALYS'},\n {'value': 64, 'name': 'EUROSTAR', 'description': 'EUROSTAR'},\n {'value': 128, 'name': 'EUROSTARITALIA', 'description': 'EUROSTARITALIA'},\n {'value': 256, 'name': 'CISALPINO', 'description': 'CISALPINO'},\n {'value': 512, 'name': 'AVE', 'description': 'AVE'},\n {'value': 1024, 'name': 'TALGO', 'description': 'TALGO'},\n {'value': 2048, 'name': 'rj', 'description': 'railjet'},\n {'value': 4096, 'name': 'IC', 'description': 'InterCity'},\n {'value': 8192, 'name': 'SC', 'description': 'SuperCity'},\n {'value': 16384, 'name': 'EC', 'description': 'EuroCity'},\n {'value': 32768, 'name': 'ICE', 'description': 'INTERCITYEXPRES'},\n {'value': 65536, 'name': 'TGV', 'description': 'TGV'},\n {'value': 131072, 'name': 'EN', 'description': 'EuroNight'},\n {'value': 262144, 'name': 'NZ', 'description': 'NACHTZUG'},\n {'value': 524288, 'name': 'rjx', 'description': 'railjet xpress'},\n {'value': 2097152, 'name': 'BUS', 'description': 'BUS'},\n {'value': 33554432, 'name': 'HST', 'description': 'High-speed train'},\n {'value': 67108864, 'name': 'Nez', 'description': 'Neznámy vlak'},\n {'value': 134217728, 'name': 'ER', 'description': 'EURegio'},\n {'value': 268435456, 'name': 'CJX', 'description': 'CJX cityjet xpress'},\n {'value': 536870912, 'name': 'REX', 'description': 'RegionalExpres'},\n {'value': 1073741824, 'name': 'NJ', 'description': 'NJ Night Jet'},\n {'value': 2147483648, 'name': 'NT', 'description': 'Night Train'},\n {'value': 4294967296, 'name': 'NLT', 'description': 'Night Train Tolstoi'},\n {'value': 8589934592, 'name': 'EIC', 'description': 'ExpressIC'},\n {'value': 17179869184, 'name': 'ICB', 'description': 'InterCity Bus'},\n {'value': 34359738368, 'name': 'TLK', 'description': 'TLK train'},\n {'value': 68719476736, 'name': 'EIP', 'description': 'EIC Premium'},\n {'value': 137438953472, 'name': 'RB', 'description': 'Regionalbahn'},\n {'value': 274877906944, 'name': 'RE', 'description': 'Regional-Express'},\n {'value': 549755813888, 'name': 'Zr', 'description': 'Zrýchlený vlak'},\n {'value': 36028797018963968,\n  'name': 'Peší prechod',\n  'description': 'peší presun'}]"
     },
     "metadata": {},
     "execution_count": 227
    }
   ],
   "source": [
    "zsr.meta.train_types()"
   ]
  },
  {
   "cell_type": "code",
   "execution_count": null,
   "metadata": {},
   "outputs": [],
   "source": []
  }
 ]
}